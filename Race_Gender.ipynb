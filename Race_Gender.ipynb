{
 "cells": [
  {
   "cell_type": "code",
   "execution_count": 1,
   "metadata": {},
   "outputs": [],
   "source": [
    "import numpy as np \n",
    "import pandas as pd \n",
    "import os\n",
    "import glob\n",
    "import pandas as pd\n",
    "import matplotlib.pyplot as plt\n",
    "import seaborn as sns\n",
    "\n",
    "import warnings\n",
    "warnings.filterwarnings('ignore')"
   ]
  },
  {
   "cell_type": "code",
   "execution_count": 2,
   "metadata": {},
   "outputs": [
    {
     "data": {
      "text/plain": [
       "({0: 'male', 1: 'female'},\n",
       " {'male': 0, 'female': 1},\n",
       " {0: 'white', 1: 'black', 2: 'asian', 3: 'indian', 4: 'others'},\n",
       " {'white': 0, 'black': 1, 'asian': 2, 'indian': 3, 'others': 4})"
      ]
     },
     "execution_count": 2,
     "metadata": {},
     "output_type": "execute_result"
    }
   ],
   "source": [
    "DATA_DIR = \"UTKFace\"\n",
    "TRAIN_TEST_SPLIT = 0.7\n",
    "IM_WIDTH = IM_HEIGHT = 198\n",
    "ID_GENDER_MAP = {0: 'male', 1: 'female'}\n",
    "GENDER_ID_MAP = dict((g, i) for i, g in ID_GENDER_MAP.items())\n",
    "ID_RACE_MAP = {0: 'white', 1: 'black', 2: 'asian', 3: 'indian', 4: 'others'}\n",
    "RACE_ID_MAP = dict((r, i) for i, r in ID_RACE_MAP.items())\n",
    "\n",
    "ID_GENDER_MAP, GENDER_ID_MAP, ID_RACE_MAP, RACE_ID_MAP"
   ]
  },
  {
   "cell_type": "code",
   "execution_count": 3,
   "metadata": {},
   "outputs": [],
   "source": [
    "def parse_filepath(filepath):\n",
    "    try:\n",
    "        path, filename = os.path.split(filepath)\n",
    "        filename, ext = os.path.splitext(filename)\n",
    "        age, gender, race, _ = filename.split(\"_\")\n",
    "        return int(age), ID_GENDER_MAP[int(gender)], ID_RACE_MAP[int(race)]\n",
    "    except Exception as e:\n",
    "        return None, None, None"
   ]
  },
  {
   "cell_type": "code",
   "execution_count": 4,
   "metadata": {},
   "outputs": [],
   "source": [
    "files = glob.glob(os.path.join(DATA_DIR, \"*.jpg\"))"
   ]
  },
  {
   "cell_type": "code",
   "execution_count": 5,
   "metadata": {},
   "outputs": [
    {
     "data": {
      "text/plain": [
       "(100, 'male', 'white')"
      ]
     },
     "execution_count": 5,
     "metadata": {},
     "output_type": "execute_result"
    }
   ],
   "source": [
    "attributes = list(map(parse_filepath, files))\n",
    "attributes[0]"
   ]
  },
  {
   "cell_type": "code",
   "execution_count": 6,
   "metadata": {},
   "outputs": [
    {
     "data": {
      "text/html": [
       "<div>\n",
       "<style scoped>\n",
       "    .dataframe tbody tr th:only-of-type {\n",
       "        vertical-align: middle;\n",
       "    }\n",
       "\n",
       "    .dataframe tbody tr th {\n",
       "        vertical-align: top;\n",
       "    }\n",
       "\n",
       "    .dataframe thead th {\n",
       "        text-align: right;\n",
       "    }\n",
       "</style>\n",
       "<table border=\"1\" class=\"dataframe\">\n",
       "  <thead>\n",
       "    <tr style=\"text-align: right;\">\n",
       "      <th></th>\n",
       "      <th>age</th>\n",
       "      <th>gender</th>\n",
       "      <th>race</th>\n",
       "      <th>file</th>\n",
       "    </tr>\n",
       "  </thead>\n",
       "  <tbody>\n",
       "    <tr>\n",
       "      <th>0</th>\n",
       "      <td>100.0</td>\n",
       "      <td>male</td>\n",
       "      <td>white</td>\n",
       "      <td>UTKFace\\100_0_0_20170112213500903.jpg.chip.jpg</td>\n",
       "    </tr>\n",
       "    <tr>\n",
       "      <th>1</th>\n",
       "      <td>100.0</td>\n",
       "      <td>male</td>\n",
       "      <td>white</td>\n",
       "      <td>UTKFace\\100_0_0_20170112215240346.jpg.chip.jpg</td>\n",
       "    </tr>\n",
       "    <tr>\n",
       "      <th>2</th>\n",
       "      <td>100.0</td>\n",
       "      <td>female</td>\n",
       "      <td>white</td>\n",
       "      <td>UTKFace\\100_1_0_20170110183726390.jpg.chip.jpg</td>\n",
       "    </tr>\n",
       "    <tr>\n",
       "      <th>3</th>\n",
       "      <td>100.0</td>\n",
       "      <td>female</td>\n",
       "      <td>white</td>\n",
       "      <td>UTKFace\\100_1_0_20170112213001988.jpg.chip.jpg</td>\n",
       "    </tr>\n",
       "    <tr>\n",
       "      <th>4</th>\n",
       "      <td>100.0</td>\n",
       "      <td>female</td>\n",
       "      <td>white</td>\n",
       "      <td>UTKFace\\100_1_0_20170112213303693.jpg.chip.jpg</td>\n",
       "    </tr>\n",
       "  </tbody>\n",
       "</table>\n",
       "</div>"
      ],
      "text/plain": [
       "     age  gender   race                                            file\n",
       "0  100.0    male  white  UTKFace\\100_0_0_20170112213500903.jpg.chip.jpg\n",
       "1  100.0    male  white  UTKFace\\100_0_0_20170112215240346.jpg.chip.jpg\n",
       "2  100.0  female  white  UTKFace\\100_1_0_20170110183726390.jpg.chip.jpg\n",
       "3  100.0  female  white  UTKFace\\100_1_0_20170112213001988.jpg.chip.jpg\n",
       "4  100.0  female  white  UTKFace\\100_1_0_20170112213303693.jpg.chip.jpg"
      ]
     },
     "execution_count": 6,
     "metadata": {},
     "output_type": "execute_result"
    }
   ],
   "source": [
    "df = pd.DataFrame(attributes)\n",
    "df['file'] = files\n",
    "df.columns = ['age', 'gender', 'race', 'file']\n",
    "df = df.dropna()\n",
    "df.head()"
   ]
  },
  {
   "cell_type": "code",
   "execution_count": 7,
   "metadata": {},
   "outputs": [],
   "source": [
    "df = df[(df['age'] > 10) & (df['age'] < 65)]"
   ]
  },
  {
   "cell_type": "code",
   "execution_count": 8,
   "metadata": {},
   "outputs": [
    {
     "data": {
      "text/plain": [
       "(9079, 3891, 5559, 64.0)"
      ]
     },
     "execution_count": 8,
     "metadata": {},
     "output_type": "execute_result"
    }
   ],
   "source": [
    "p = np.random.permutation(len(df))\n",
    "train_up_to = int(len(df) * TRAIN_TEST_SPLIT)\n",
    "train_idx = p[:train_up_to]\n",
    "test_idx = p[train_up_to:]\n",
    "\n",
    "train_up_to = int(train_up_to * 0.7)\n",
    "train_idx, valid_idx = train_idx[:train_up_to], train_idx[train_up_to:]\n",
    "\n",
    "df['gender_id'] = df['gender'].map(lambda gender: GENDER_ID_MAP[gender])\n",
    "df['race_id'] = df['race'].map(lambda race: RACE_ID_MAP[race])\n",
    "\n",
    "max_age = df['age'].max()\n",
    "len(train_idx), len(valid_idx), len(test_idx), max_age"
   ]
  },
  {
   "cell_type": "code",
   "execution_count": 11,
   "metadata": {},
   "outputs": [],
   "source": [
    "from tensorflow.keras.utils import to_categorical\n",
    "from PIL import Image\n",
    "\n",
    "def get_data_generator(df, indices, for_training, batch_size=16):\n",
    "    images, ages, races, genders = [], [], [], []\n",
    "    while True:\n",
    "        for i in indices:\n",
    "            r = df.iloc[i]\n",
    "            file, age, race, gender = r['file'], r['age'], r['race_id'], r['gender_id']\n",
    "            im = Image.open(file)\n",
    "            im = im.resize((IM_WIDTH, IM_HEIGHT))\n",
    "            im = np.array(im) / 255.0\n",
    "            images.append(im)\n",
    "            ages.append(age / max_age)\n",
    "            races.append(to_categorical(race, len(RACE_ID_MAP)))\n",
    "            genders.append(to_categorical(gender, 2))\n",
    "            if len(images) >= batch_size:\n",
    "                yield np.array(images), [np.array(ages), np.array(races), np.array(genders)]\n",
    "                images, ages, races, genders = [], [], [], []\n",
    "        if not for_training:\n",
    "            break"
   ]
  },
  {
   "cell_type": "code",
   "execution_count": 14,
   "metadata": {},
   "outputs": [],
   "source": [
    "from tensorflow.keras.layers import Input, Dense, BatchNormalization, Conv2D, MaxPool2D, GlobalMaxPool2D, Dropout\n",
    "from tensorflow.keras.optimizers import SGD\n",
    "from tensorflow.keras.models import Model\n",
    "\n",
    "def conv_block(inp, filters=32, bn=True, pool=True):\n",
    "    _ = Conv2D(filters=filters, kernel_size=3, activation='relu')(inp)\n",
    "    if bn:\n",
    "        _ = BatchNormalization()(_)\n",
    "    if pool:\n",
    "        _ = MaxPool2D()(_)\n",
    "    return _\n",
    "\n",
    "input_layer = Input(shape=(IM_HEIGHT, IM_WIDTH, 3))\n",
    "_ = conv_block(input_layer, filters=32, bn=False, pool=False)\n",
    "_ = conv_block(_, filters=32*2)\n",
    "_ = conv_block(_, filters=32*3)\n",
    "_ = conv_block(_, filters=32*4)\n",
    "_ = conv_block(_, filters=32*5)\n",
    "_ = conv_block(_, filters=32*6)\n",
    "bottleneck = GlobalMaxPool2D()(_)\n",
    "\n",
    "# for age calculation\n",
    "_ = Dense(units=128, activation='relu')(bottleneck)\n",
    "age_output = Dense(units=1, activation='sigmoid', name='age_output')(_)\n",
    "\n",
    "# for race prediction\n",
    "_ = Dense(units=128, activation='relu')(bottleneck)\n",
    "race_output = Dense(units=len(RACE_ID_MAP), activation='softmax', name='race_output')(_)\n",
    "\n",
    "# for gender prediction\n",
    "_ = Dense(units=128, activation='relu')(bottleneck)\n",
    "gender_output = Dense(units=len(GENDER_ID_MAP), activation='softmax', name='gender_output')(_)\n",
    "\n",
    "model = Model(inputs=input_layer, outputs=[age_output, race_output, gender_output])\n",
    "model.compile(optimizer='rmsprop', \n",
    "              loss={'age_output': 'mse', 'race_output': 'categorical_crossentropy', 'gender_output': 'categorical_crossentropy'},\n",
    "              loss_weights={'age_output': 2., 'race_output': 1.5, 'gender_output': 1.},\n",
    "              metrics={'age_output': 'mae', 'race_output': 'accuracy', 'gender_output': 'accuracy'})"
   ]
  },
  {
   "cell_type": "code",
   "execution_count": 15,
   "metadata": {},
   "outputs": [
    {
     "name": "stdout",
     "output_type": "stream",
     "text": [
      "Epoch 1/2\n",
      "141/141 [==============================] - ETA: 0s - loss: 2.9171 - age_output_loss: 0.0667 - race_output_loss: 1.4113 - gender_output_loss: 0.6668 - age_output_mae: 0.2067 - race_output_accuracy: 0.4864 - gender_output_accuracy: 0.7041"
     ]
    },
    {
     "name": "stderr",
     "output_type": "stream",
     "text": [
      "WARNING:absl:Found untraced functions such as _jit_compiled_convolution_op, _jit_compiled_convolution_op, _jit_compiled_convolution_op, _jit_compiled_convolution_op, _jit_compiled_convolution_op while saving (showing 5 of 6). These functions will not be directly callable after loading.\n"
     ]
    },
    {
     "name": "stdout",
     "output_type": "stream",
     "text": [
      "INFO:tensorflow:Assets written to: .\\model_checkpoint\\assets\n"
     ]
    },
    {
     "name": "stderr",
     "output_type": "stream",
     "text": [
      "INFO:tensorflow:Assets written to: .\\model_checkpoint\\assets\n"
     ]
    },
    {
     "name": "stdout",
     "output_type": "stream",
     "text": [
      "141/141 [==============================] - 910s 6s/step - loss: 2.9171 - age_output_loss: 0.0667 - race_output_loss: 1.4113 - gender_output_loss: 0.6668 - age_output_mae: 0.2067 - race_output_accuracy: 0.4864 - gender_output_accuracy: 0.7041 - val_loss: 4.2542 - val_age_output_loss: 0.0615 - val_race_output_loss: 1.9930 - val_gender_output_loss: 1.1419 - val_age_output_mae: 0.2192 - val_race_output_accuracy: 0.3917 - val_gender_output_accuracy: 0.5128\n",
      "Epoch 2/2\n",
      "141/141 [==============================] - ETA: 0s - loss: 1.9233 - age_output_loss: 0.0386 - race_output_loss: 0.9950 - gender_output_loss: 0.3537 - age_output_mae: 0.1572 - race_output_accuracy: 0.6316 - gender_output_accuracy: 0.8490"
     ]
    },
    {
     "name": "stderr",
     "output_type": "stream",
     "text": [
      "WARNING:absl:Found untraced functions such as _jit_compiled_convolution_op, _jit_compiled_convolution_op, _jit_compiled_convolution_op, _jit_compiled_convolution_op, _jit_compiled_convolution_op while saving (showing 5 of 6). These functions will not be directly callable after loading.\n"
     ]
    },
    {
     "name": "stdout",
     "output_type": "stream",
     "text": [
      "INFO:tensorflow:Assets written to: .\\model_checkpoint\\assets\n"
     ]
    },
    {
     "name": "stderr",
     "output_type": "stream",
     "text": [
      "INFO:tensorflow:Assets written to: .\\model_checkpoint\\assets\n"
     ]
    },
    {
     "name": "stdout",
     "output_type": "stream",
     "text": [
      "\b\b\b\b\b\b\b\b\b\b\b\b\b\b\b\b\b\b\b\b\b\b\b\b\b\b\b\b\b\b\b\b\b\b\b\b\b\b\b\b\b\b\b\b\b\b\b\b\b\b\b\b\b\b\b\b\b\b\b\b\b\b\b\b\b\b\b\b\b\b\b\b\b\b\b\b\b\b\b\b\b\b\b\b\b\b\b\b\b\b\b\b\b\b\b\b\b\b\b\b\b\b\b\b\b\b\b\b\b\b\b\b\b\b\b\b\b\b\b\b\b\b\b\b\b\b\b\b\b\b\b\b\b\b\b\b\b\b\b\b\b\b\b\b\b\b\b\b\b\b\b\b\b\b\b\b\b\b\b\b\b\b\b\b\b\b\b\b\b\b\b\b\b\b\b\b\b\b\b\b\b\b\b\b\b\b\b\b\b\b\b\b\b\b\b\b\b\b\b\b\b\b\b\b\b\b\b\b\b\b\b\b\b\b\b\b\b\b\b\b\b\b\b\b\b\b\b\b\b\b\b\b\b\b\b\b\r",
      "141/141 [==============================] - 885s 6s/step - loss: 1.9233 - age_output_loss: 0.0386 - race_output_loss: 0.9950 - gender_output_loss: 0.3537 - age_output_mae: 0.1572 - race_output_accuracy: 0.6316 - gender_output_accuracy: 0.8490 - val_loss: 2.5960 - val_age_output_loss: 0.0511 - val_race_output_loss: 1.2014 - val_gender_output_loss: 0.6916 - val_age_output_mae: 0.1920 - val_race_output_accuracy: 0.5750 - val_gender_output_accuracy: 0.6518\n"
     ]
    }
   ],
   "source": [
    "from tensorflow.keras.callbacks import ModelCheckpoint\n",
    "\n",
    "batch_size = 64\n",
    "valid_batch_size = 64\n",
    "train_gen = get_data_generator(df, train_idx, for_training=True, batch_size=batch_size)\n",
    "valid_gen = get_data_generator(df, valid_idx, for_training=True, batch_size=valid_batch_size)\n",
    "\n",
    "callbacks = [\n",
    "    ModelCheckpoint(\"./model_checkpoint\", monitor='val_loss')\n",
    "]\n",
    "\n",
    "history = model.fit_generator(train_gen,\n",
    "                    steps_per_epoch=len(train_idx)//batch_size,\n",
    "                    epochs=2,\n",
    "                    callbacks=callbacks,\n",
    "                    validation_data=valid_gen,\n",
    "                    validation_steps=len(valid_idx)//valid_batch_size)"
   ]
  },
  {
   "cell_type": "code",
   "execution_count": 16,
   "metadata": {},
   "outputs": [
    {
     "data": {
      "image/png": "[encoded data removed]",
      "text/plain": [
       "<Figure size 1440x360 with 4 Axes>"
      ]
     },
     "metadata": {
      "needs_background": "light"
     },
     "output_type": "display_data"
    }
   ],
   "source": [
    "def  plot_train_history(history):\n",
    "    fig, axes = plt.subplots(1, 4, figsize=(20, 5))\n",
    "    axes[0].plot(history.history['race_output_accuracy'], label='Race Train accuracy')\n",
    "    axes[0].plot(history.history['val_race_output_accuracy'], label='Race Val accuracy')\n",
    "    axes[0].set_xlabel('Epochs')\n",
    "    axes[0].legend()\n",
    "    \n",
    "    axes[1].plot(history.history['gender_output_accuracy'], label='Gender Train accuracy')\n",
    "    axes[1].plot(history.history['val_gender_output_accuracy'], label='Gener Val accuracy')\n",
    "    axes[1].set_xlabel('Epochs')\n",
    "    axes[1].legend()\n",
    "\n",
    "    axes[2].plot(history.history['age_output_loss'], label='Age Train MAE')\n",
    "    axes[2].plot(history.history['val_age_output_loss'], label='Age Val MAE')\n",
    "    axes[2].set_xlabel('Epochs')\n",
    "    axes[2].legend()  \n",
    "\n",
    "    axes[3].plot(history.history['loss'], label='Training loss')\n",
    "    axes[3].plot(history.history['val_loss'], label='Validation loss')\n",
    "    axes[3].set_xlabel('Epochs')\n",
    "    axes[3].legend()\n",
    "\n",
    "plot_train_history(history)"
   ]
  },
  {
   "cell_type": "markdown",
   "metadata": {},
   "source": [
    "### Evaluation"
   ]
  },
  {
   "cell_type": "code",
   "execution_count": 17,
   "metadata": {},
   "outputs": [
    {
     "data": {
      "text/plain": [
       "{'loss': 2.5337843894958496,\n",
       " 'age_output_loss': 0.04939013347029686,\n",
       " 'race_output_loss': 1.161689043045044,\n",
       " 'gender_output_loss': 0.6924707889556885,\n",
       " 'age_output_mae': 0.1886938512325287,\n",
       " 'race_output_accuracy': 0.5764898061752319,\n",
       " 'gender_output_accuracy': 0.6580668687820435}"
      ]
     },
     "execution_count": 17,
     "metadata": {},
     "output_type": "execute_result"
    }
   ],
   "source": [
    "test_gen = get_data_generator(df, test_idx, for_training=False, batch_size=128)\n",
    "dict(zip(model.metrics_names, model.evaluate_generator(test_gen, steps=len(test_idx)//128)))"
   ]
  },
  {
   "cell_type": "code",
   "execution_count": 18,
   "metadata": {},
   "outputs": [],
   "source": [
    "test_gen = get_data_generator(df, test_idx, for_training=False, batch_size=128)\n",
    "x_test, (age_true, race_true, gender_true)= next(test_gen)\n",
    "age_pred, race_pred, gender_pred = model.predict_on_batch(x_test)"
   ]
  },
  {
   "cell_type": "code",
   "execution_count": 19,
   "metadata": {},
   "outputs": [],
   "source": [
    "race_true, gender_true = race_true.argmax(axis=-1), gender_true.argmax(axis=-1)\n",
    "race_pred, gender_pred = race_pred.argmax(axis=-1), gender_pred.argmax(axis=-1)\n",
    "age_true = age_true * max_age\n",
    "age_pred = age_pred * max_age"
   ]
  },
  {
   "cell_type": "code",
   "execution_count": 20,
   "metadata": {},
   "outputs": [
    {
     "name": "stdout",
     "output_type": "stream",
     "text": [
      "Classification report for race\n",
      "              precision    recall  f1-score   support\n",
      "\n",
      "           0       0.56      0.69      0.62        49\n",
      "           1       0.69      0.38      0.49        29\n",
      "           2       0.69      0.53      0.60        17\n",
      "           3       0.34      0.62      0.44        21\n",
      "           4       0.00      0.00      0.00        12\n",
      "\n",
      "    accuracy                           0.52       128\n",
      "   macro avg       0.46      0.44      0.43       128\n",
      "weighted avg       0.52      0.52      0.50       128\n",
      "\n",
      "\n",
      "Classification report for gender\n",
      "              precision    recall  f1-score   support\n",
      "\n",
      "           0       0.61      1.00      0.76        68\n",
      "           1       1.00      0.28      0.44        60\n",
      "\n",
      "    accuracy                           0.66       128\n",
      "   macro avg       0.81      0.64      0.60       128\n",
      "weighted avg       0.79      0.66      0.61       128\n",
      "\n"
     ]
    }
   ],
   "source": [
    "from sklearn.metrics import classification_report\n",
    "print(\"Classification report for race\")\n",
    "print(classification_report(race_true, race_pred))\n",
    "\n",
    "print(\"\\nClassification report for gender\")\n",
    "print(classification_report(gender_true, gender_pred))"
   ]
  }
 ],
 "metadata": {
  "kernelspec": {
   "display_name": "Python 3 (ipykernel)",
   "language": "python",
   "name": "python3"
  },
  "language_info": {
   "codemirror_mode": {
    "name": "ipython",
    "version": 3
   },
   "file_extension": ".py",
   "mimetype": "text/x-python",
   "name": "python",
   "nbconvert_exporter": "python",
   "pygments_lexer": "ipython3",
   "version": "3.9.12"
  }
 },
 "nbformat": 4,
 "nbformat_minor": 4
}
